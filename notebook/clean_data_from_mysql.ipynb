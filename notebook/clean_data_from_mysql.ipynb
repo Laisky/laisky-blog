{
 "cells": [
  {
   "cell_type": "code",
   "execution_count": 1,
   "metadata": {
    "collapsed": false
   },
   "outputs": [],
   "source": [
    "import pandas as pd\n",
    "import pymysql\n",
    "import pymongo\n",
    "import random\n",
    "import re\n",
    "import datetime\n",
    "from bson import ObjectId\n",
    "from pprint import pprint\n",
    "\n",
    "mongo_conn = pymongo.MongoClient(host='laisky.com', port=27016)\n",
    "posts = mongo_conn.blog.posts"
   ]
  },
  {
   "cell_type": "code",
   "execution_count": 2,
   "metadata": {
    "collapsed": false
   },
   "outputs": [],
   "source": [
    "conn = pymysql.connect('laisky.com', user='root', passwd='pineapple', db='wordpress', charset='utf8')\n",
    "cursor = conn.cursor()"
   ]
  },
  {
   "cell_type": "code",
   "execution_count": 3,
   "metadata": {
    "collapsed": false
   },
   "outputs": [
    {
     "data": {
      "text/plain": [
       "122"
      ]
     },
     "execution_count": 3,
     "metadata": {},
     "output_type": "execute_result"
    }
   ],
   "source": [
    "cursor.execute(\"\"\"SELECT * FROM wp_posts WHERE post_type='post' AND post_status='publish'\"\"\")"
   ]
  },
  {
   "cell_type": "code",
   "execution_count": 4,
   "metadata": {
    "collapsed": false
   },
   "outputs": [],
   "source": [
    "regex = re.compile('(<pre><code class=\\\"\\w*\\\">.*?<\\/code><\\/pre>)')\n",
    "\n",
    "def convert_content(c):\n",
    "    c = '<p>' + '<p></p>'.join(c.split('\\n')) + '</p>'\n",
    "    c = c.replace('<p></p>', '<br />')\n",
    "    c = c.replace('[pythoh]', '<pre><code class=\"python\">')\n",
    "    c = c.replace('[python]', '<pre><code class=\"python\">')\n",
    "    c = c.replace('[shell]', '<pre><code class=\"shell\">')\n",
    "    c = c.replace('[/python]', '</code></pre>')\n",
    "    c = c.replace('[/shell]', '</code></pre>')\n",
    "    c = c.replace('wp-content/uploads', '/uploads')\n",
    "    c = c.replace('http://blog.laisky.us/archives', 'http://blog.laisky.com/archives')\n",
    "    c = c.replace('laisky.us', 'laisky.com')\n",
    "    for p1 in regex.findall(c):\n",
    "        p2 = p1.replace('<br />', '\\n')\n",
    "        c = c.replace(p1, p2)\n",
    "        \n",
    "    return c"
   ]
  },
  {
   "cell_type": "code",
   "execution_count": 5,
   "metadata": {
    "collapsed": false,
    "scrolled": false
   },
   "outputs": [
    {
     "name": "stdout",
     "output_type": "stream",
     "text": [
      "finished 1; finished 2; finished 3; finished 4; finished 5; finished 6; finished 7; finished 8; finished 9; finished 10; finished 11; finished 12; finished 13; finished 14; finished 15; finished 16; finished 17; finished 18; finished 19; finished 20; finished 21; finished 22; finished 23; finished 24; finished 25; finished 26; finished 27; finished 28; finished 29; finished 30; finished 31; finished 32; finished 33; finished 34; finished 35; finished 36; finished 37; finished 38; finished 39; finished 40; finished 41; finished 42; finished 43; finished 44; finished 45; finished 46; finished 47; finished 48; finished 49; finished 50; finished 51; finished 52; finished 53; finished 54; finished 55; finished 56; finished 57; finished 58; finished 59; finished 60; finished 61; finished 62; finished 63; finished 64; finished 65; finished 66; finished 67; finished 68; finished 69; finished 70; finished 71; finished 72; finished 73; finished 74; finished 75; finished 76; finished 77; finished 78; finished 79; finished 80; finished 81; finished 82; finished 83; finished 84; finished 85; finished 86; finished 87; finished 88; finished 89; finished 90; finished 91; finished 92; finished 93; finished 94; finished 95; finished 96; finished 97; finished 98; finished 99; finished 100; finished 101; finished 102; finished 103; finished 104; finished 105; finished 106; finished 107; finished 108; finished 109; finished 110; finished 111; finished 112; finished 113; finished 114; finished 115; finished 116; finished 117; finished 118; finished 119; finished 120; finished 121; finished 122; "
     ]
    }
   ],
   "source": [
    "count = 0\n",
    "for i, post in enumerate(cursor):\n",
    "    headers = (\n",
    "        \"ID\", \"post_author\", \"post_date\", \"post_date_gmt\", \"post_content\",\n",
    "        \"post_title\", \"post_excerpt\", \"post_status\", \"comment_status\",\n",
    "        \"ping_status\", \"post_password\", \"post_name\", \"to_ping\", \"pinged\",\n",
    "        \"post_modified\", \"post_modified_gmt\", \"post_content_filtered\",\n",
    "        \"post_parent\", \"guid\", \"menu_order\", \"post_type\", \"post_mime_type\",\n",
    "        \"comment_count\"\n",
    "    )\n",
    "    pdocu = dict(zip(headers, post))\n",
    "    if pdocu['post_type'] != 'post' or pdocu['post_status'] != 'publish':\n",
    "        continue\n",
    "\n",
    "    docu = {\n",
    "        '_id': ObjectId.from_datetime(pdocu['post_date_gmt'] + datetime.timedelta(seconds=random.randint(0, 60))),\n",
    "        'comment_status': pdocu['comment_status'],\n",
    "        'post_author': ObjectId(\"25b3edc00000000000008888\"),\n",
    "        'post_content': convert_content(pdocu['post_content']),\n",
    "        'post_modified_gmt': pdocu['post_modified_gmt'],\n",
    "        'post_name': pdocu['post_name'],\n",
    "        'post_password': pdocu['post_password'],\n",
    "        'post_status': pdocu['post_status'],\n",
    "        'post_title': pdocu['post_title']\n",
    "    }\n",
    "        \n",
    "    count += 1\n",
    "    print('finished {}'.format(count), end='; ')\n",
    "    posts.insert(docu)\n",
    "\n"
   ]
  },
  {
   "cell_type": "code",
   "execution_count": 24,
   "metadata": {
    "collapsed": false
   },
   "outputs": [
    {
     "data": {
      "text/plain": [
       "{'comment_status': 'open',\n",
       " 'post_mime_type': '',\n",
       " 'post_excerpt': '',\n",
       " 'post_modified_gmt': datetime.datetime(2013, 1, 19, 8, 5, 38),\n",
       " 'menu_order': 0,\n",
       " 'ping_status': 'open',\n",
       " 'post_modified': datetime.datetime(2013, 1, 19, 16, 5, 38),\n",
       " 'post_author': 1,\n",
       " 'post_content': '继续上一篇： 公正：该如何是好\\xa0<a href=\"http://blog.laisky.us/archives/6\" target=\"_blank\">http://blog.laisky.us/archives/6 </a>\\n\\n上一篇介绍了三个主要的公正理论的发展与核心思想。现在就结合现代的具体事例分析不同的道德理念之间的关乎公正的冲突。 一个怎样的社会才能被称为是一个公正的社会？一个个体在社会中拥有何种的权益能被称为是道德应得的？下面先阐述不同派别对公正的理解，再结合不同的事例进 行分析。\\n\\n<strong>罗尔斯</strong>构想了一种称之为<a href=\"http://zh.wikipedia.org/wiki/%E6%97%A0%E7%9F%A5%E4%B9%8B%E5%B9%95\" target=\"_blank\" rel=\"nofollow\">无知之幕</a>的情景。简单的说就是构想这样一种情形\\n\\n『<em>将所有人置于无知之幕的后面来规划他们将要进入的社会的规则，没人知道他们将以怎样的身份进入社会，也不会知道他们具有怎样的才能。</em>』\\n\\n<!--more-->\\n\\n罗尔斯认为在这种情景下制定出的社会规则将是公正的，其内容将包含两种公正原则\\n<blockquote>\\n<ol>\\n\\t<li>第一个原则是为所有公民提供平等的基本自由，如言论自由和宗教自由。</li>\\n\\t<li>第二原则是关心社会和经济的平等。</li>\\n</ol>\\n</blockquote>\\n关于公正有一个最大的矛盾就是对于天赋的处理。在某个特定的年代，总会有些人天生比别人拥有更易成功的天赋。比如在一个赛跑场上，天生擅长跑步的人总会比 别人更易获得冠军，即使第二名选手进行了比他还多的训练，我们能将冠军视为有天赋者应得的荣誉吗，我们能够在公正的理念中容许这种道德的偶然性（天赋） 吗？ 功利主义者的思想比较简单，他们认为只要符合契约精神（互惠性与意志自由），那么所有人都应当对其所拥有的财富和荣誉享有道德应得。显而易见的是，这样的 简单的契约论并不能为社会不平等的争论带来什么实质性的解决办法。\\n<blockquote>那源于具有形式上的机会平等的自由市场的有关收入和财富的分配，并不能看做是公正的——罗尔斯</blockquote>\\n对此，一种公平的精英统治制度（meritocracy）提出了一种构想，试图通过超越单纯的形式上的机会平等来实现公正。但罗尔斯认为这样的构思依然无法纠正道德上的偶然性。而如果我们试图继续纠正偶然性所带来的不公平，那么就会走上歧途。\\n<blockquote>纠正不平等的教育机会是一回事，而纠正不平等的天赋才能，是另外一回事。如果我们受到这一事实（有些选手天生比别人跑得更快）的困扰，那么，我们就得让那些具有天赋的选手穿上铅制的鞋子吗？</blockquote>\\n对此，罗尔斯提出的解决办法是差异原则：\\n<blockquote>纠正那种关于才能和天赋的不公平分配，同时又不给那些有天赋的人设置障碍，我们要鼓励那些有天赋的人发展并锻炼自己的才能，不过同时也要认识到，这些才能在市场中所获得的回报属于作为整体的共同体——罗尔斯 #差异原则 #摘抄</blockquote>\\n对此理论的反驳主要可以概括为如下两点：\\n<ol>\\n<ol>\\n<ol>\\n\\t<li>如何激励有天赋者去更多的实现价值？</li>\\n\\t<li>如何衡量努力所带来的道德应得？</li>\\n</ol>\\n</ol>\\n</ol>\\n罗尔斯对此的答复是：\\n<ol>\\n<ol>\\n<ol>\\n\\t<li>差异原则允许收入的不平等，拥有更多天赋的人可以获得更多的收益，同时也对社会贡献了最多的福祉</li>\\n\\t<li>努力本身其实也包含了一种道德随机，你所处的环境以及你自己所具有的条件允许你可以为你的目标而努力，而且努力很大程度上其实也依赖于你的天赋才能。</li>\\n</ol>\\n</ol>\\n</ol>\\n<ul>\\n\\t<li>拒 绝承认道德应得作为分配公正的基础。没有人能根据自己的那些被独立界定的优点，而应得的占有社会资源，只要在确认的社会使命面前，才能确定什么才算是优点 #罗尔斯 #笔记 罗尔斯斩断了天赋与成功之间的道德联系，而将其视为是对运气的奖励，富人并不比穷人更应得财富，他们只是买中了时代的彩票</li>\\n</ul>\\n罗尔斯认为任何人都并不在道德上应得他所实际拥有的财富，那只不过一种偶然性的奖励，取决于他的天赋或是时运。并没有什么恒久不变的道德应得或规则，一切都是在无知之幕所确定的规则之下运作。\\n<blockquote>分 配公正与奖励德性或道德应得无关。一旦公正原则确立了社会合作的要求，那么人们就有资格获得他们在这些规则中所收获的利益。同样的，如果规则要求他们交出 一部分收益帮助那些不利者，他们也不应该抱怨这剥夺了他们道德应得的财富。 正方： 生活是不公平的。如果认为政府能够纠正自然的产物，这种观点确实很吸引人。但是认识到以下这点也同样重要：即我们从自己所强烈反对的这种不公平中获得了多 少利益——米尔顿·弗里德曼 #自由选择 反方： 事物所是的方式，并不决定它们应当所是的方式——罗尔斯 #正义论 #摘抄</blockquote>\\n<strong>事例分析Ⅰ</strong>——高校反歧视运动之争：\\n<ul>\\n\\t<li>高校反歧视行动的理由主要基于两点：一是补偿性理由，将录取看做是奖励，试图以一种补偿过往的不平等及其残存影响的方式来分配这种利益；另一种是多样性理由，即将录取看做是一种促进社会上值得追求的目标的手段 #笔记</li>\\n</ul>\\n关于罗尔斯的思想的运用的最好的例子就是关于高校的反歧视运动，现在高校在录取学生的时候，会对少数族裔的学生有一定的偏向。而高校对此做出的解释基于两种理由\\n<ol>\\n<ol>\\n<ol>\\n\\t<li>大部分少数族裔学生所处的社会地位不高，他们在学习过程中面临了更大的困难。所以将录取视为福利，而对其采取补偿性的奖励。</li>\\n\\t<li>大学的目的是为社会培养人才，类似法学这样的学科会需要更多阶级的人参与其中，所以学校出于多样性的目的而对少数族裔学生采取偏向性措施。</li>\\n</ol>\\n</ol>\\n</ol>\\n当然，有不少成绩与少数族裔学生成绩相当的人，就因为上述的理由而被学校拒绝，他们对此表示了不满，并认为自己的权益受到了侵犯，学校剥夺了他们赢得的进 入该校的荣誉。（关于荣誉性的理由在稍后亚里士多德部分会有详述） 学校对此的回应是：没有任何人的成就是应得的。那些进入了学校的人只是因为恰好学校当前需要你的身份以及技能，而不是说因为你的身份或技能而应得这份荣 誉。那些被拒绝的人也不过是因为恰好他们的身份和技能并不被重视，而不能认为是他们的荣誉被剥夺。没有什么是道德应得的，只有在<strong>使命</strong>面前的取舍。\\n<blockquote>录 取并不是一种授予最高美德或德性的荣誉。那些拥有最高考试分数的学生，以及来自于一个处于不利地位的少数民族团体的学生，在道德上都不应得录取资格。 没有人能根据自己的那些被独立界定的优点，而应得一所公寓或新生班级中的一席之地。只有当住房管理人士或学校领导设定了自己的使命时，才能确定什么才算是 优点</blockquote>\\n在罗尔斯的理论中出现了使命一词，那么该如何界定使命呢？高校是否可以根据自己的需求（比如为了更好的发展筹集资金）而拍卖学位呢？一旦大学将挣钱视为首要的目的，甚至干涉到录取的时候，这所大学就远远的偏离了公民的善的观念，而善的观念又该如何与公正相统一呢？\\n<blockquote>『大学入学名额分配中所体现出的公正，与大学所适当追求的善有关』这样一种观念，解释了为什么我们很难将公正和权利的问题脱离于荣誉和德性的问题。</blockquote>\\n关于德性的理解，我们需要求助亚里士多德…\\n\\n<hr />\\n\\n<strong>亚里士多德</strong>认为，公正至少有两个需要注意的考量：\\n<blockquote>\\n<ol>\\n\\t<li>公正是目的论的。对于权利的界定要求我们弄明白所讨论的社会行为的目的（telos）</li>\\n\\t<li>公正是荣誉性的。为了推理一种行为的目的——或讨论之，就至少要部分的推理或讨论它应当尊敬或奖励什么样的德性。</li>\\n</ol>\\n</blockquote>\\n<ul>\\n\\t<li>\\xa0政治的目的并不在于建立一套中立于各种目的的权利框架，而是要塑造好公民，培育好品质。…道德上的卓越并不在于累计快乐和痛苦，而在于校正它们，以使我们从高尚的事物中获得快乐而从卑贱的事物中获得痛苦—— #亚里士多德 #摘抄</li>\\n\\t<li>立法者通过在公民中培养习惯而使他们成为好公民，这是每一个立法者的希冀。…我们从年轻的时候是否培养成这种或那种习惯，不是产生微不足道的差别，而使产生非常重要的差别，抑或是全部的差别—— #亚里士多德 #摘抄</li>\\n</ul>\\n亚里士多德的论断其实很简单也很简单明确。他信奉一种称为目的论的分析方法，我们需要首先确认什么是善、什么是恶，然后才能根据善恶的准则去规划社会的制度。\\n<ul>\\n\\t<li># 亚里士多德 认为道德并不具有一般性，道德的含义就是我们需要对适当的人，在适当的分寸上，在适当的时间，处于适当的动机，以适当的方式，做适当的事情。所以道德是一 件需要通过政治实践来锻炼的技能，而拥有崇高道德的人所组成的政治团体应该运用他们的判断力来塑造整个社会的良善道德风俗 #笔记</li>\\n</ul>\\n亚里士多德不同于功利主义和自由主义对政治的批判，而是指出，『<em>城邦（即政治团体）出于自然而存在，并且要先在于个体</em>』。他指出道德是一种复杂的实践准则，和其他技艺一样是无法单纯的通过书本来学习的（比如演奏或烹饪）。人们只有通过不断的政治实践才能将自己锻炼成一个道德合格的公民\\n<blockquote>只有在城邦（政治实践）之中，我们才得以实现自己的本性。当我们孤独自处的时候，我们是不自足的，因为我们不能发展自己的语言能力和道德慎议能力。</blockquote>\\n亚里士多德“指出”了功利主义的浅薄，他提出『<em>政治的目的，是良善生活</em>』，修补了功利主义中关于善恶抉择的空缺。（这里用的是想象的描述，因为亚里士多德早于边沁一千多年，从时间上来看他是不可能知道功利主义的，但是他的理论却又确实的能够为后世的理论提出修正）\\n<blockquote>道德上的卓越并不在于累计快乐与痛苦，而在于校正它们，以使我们从高尚的事物中获得快乐而从卑贱的事物中获得痛苦。</blockquote>\\n但是，亚里士多德的道德应得论中并没有留下太多的自由的空间，自由主义借此反驳亚里士多德，难道奴隶制和符合道德的吗？ 亚里士多德对此的答复是：在一个社会发明出能够处理繁琐琐事的机器以前，如果这个社会的发展需要有奴隶来处理事物，而也确实有人天生就适合做奴隶，那么奴 隶制本身是没有问题的。 先别急着反对亚里士多德，亚里士多德其实给奴隶制限制了一个比自由主义还要严格的道德限制。他严格的要求这个社会是确实的需要奴隶的，而且这个奴隶也是确 实的适合做奴隶的。而普通社会里的那种被迫的奴隶或身份低下的奴隶在亚里士多德看来其实都是不符合道德的。\\n<blockquote>道德是由各种极端之间的中庸构成。对适当的人，在适当的分寸上，在适当的时间，出于适当的动机，以适当的方式，做适当的事情。</blockquote>\\n<strong>事例分析Ⅱ</strong>—— 凯西·马丁的高尔夫球车 凯西·马丁患有疾病无法长时间行走，于是向PGA（职业高尔夫球协会）申请允许他使用高尔夫球车，但是此举受到了PGA和部分球员的抵制，他们认为行走是 高尔夫球不可分割的一部分。 他们的理由基于荣誉性的理由：如果高尔夫球是一个身患残疾的人也能胜任的运动，那么高尔夫球还有足够的理由被称为一项竞争激烈的运动吗？这是否会削减他们 作为职业选手的荣誉？ 而凯西·马丁向法院提起诉讼，最终最高院引用亚里士多德的目的论，认为高尔夫球的目的就是挥杆，而不是行走，『<em>由于高尔夫球是一种低强度的活动，这项游戏所带来的疲劳主要是一种心理现象，其中压力和刺激是关键性的因素，通过让马丁坐球车而调整他的残疾，并不会根本地改变这项游戏，也不会给他一种不公正的优势。</em>』 这里法院通过给高尔夫球下定目的，再据此推论一系列的规则是否符合公正。当然有很多人反对这次审判的分析方法，但我们的目的只是介绍亚里士多德的分析方 法，故不多讨论。 —————————— Summarise： 罗尔斯认为无知之幕下得出的差异原则就是社会的基础原则。在该原则的指导之下可对人们及事物区分优点与缺点。独立于社会的人是没有优缺点可言的，每个人都 不对其荣誉和利益道德应得，而只是因为恰好迎合了社会当前的规则而已。 亚里士多德则是信奉目的论，认为首先需要定义善恶，才能为社会订立规则。社会的目的是良善生活，一切的制度都是为了培养公民养成良善的生活习俗。而公正是 一种需要通过实践来锻炼的高级技巧，需要逐事逐情的进行分析。',\n",
       " 'post_status': 'inherit',\n",
       " 'post_type': 'revision',\n",
       " 'guid': 'http://laisky.us/blog/archives/12',\n",
       " 'to_ping': '',\n",
       " 'post_title': '公正：该如何是好（二）',\n",
       " 'post_content_filtered': '',\n",
       " 'ID': 12,\n",
       " 'post_name': '11-revision',\n",
       " 'post_date': datetime.datetime(2013, 1, 19, 16, 5, 38),\n",
       " 'post_parent': 11,\n",
       " 'post_password': '',\n",
       " 'pinged': '',\n",
       " 'post_date_gmt': datetime.datetime(2013, 1, 19, 8, 5, 38),\n",
       " 'comment_count': 0}"
      ]
     },
     "execution_count": 24,
     "metadata": {},
     "output_type": "execute_result"
    }
   ],
   "source": [
    "headers = (\n",
    "    \"ID\", \"post_author\", \"post_date\", \"post_date_gmt\", \"post_content\",\n",
    "    \"post_title\", \"post_excerpt\", \"post_status\", \"comment_status\",\n",
    "    \"ping_status\", \"post_password\", \"post_name\", \"to_ping\", \"pinged\",\n",
    "    \"post_modified\", \"post_modified_gmt\", \"post_content_filtered\",\n",
    "    \"post_parent\", \"guid\", \"menu_order\", \"post_type\", \"post_mime_type\",\n",
    "    \"comment_count\"\n",
    ")\n",
    "\n",
    "dict(zip(headers, post))\n"
   ]
  }
 ],
 "metadata": {
  "kernelspec": {
   "display_name": "Python 3",
   "language": "python",
   "name": "python3"
  },
  "language_info": {
   "codemirror_mode": {
    "name": "ipython",
    "version": 3
   },
   "file_extension": ".py",
   "mimetype": "text/x-python",
   "name": "python",
   "nbconvert_exporter": "python",
   "pygments_lexer": "ipython3",
   "version": "3.4.2"
  }
 },
 "nbformat": 4,
 "nbformat_minor": 0
}
