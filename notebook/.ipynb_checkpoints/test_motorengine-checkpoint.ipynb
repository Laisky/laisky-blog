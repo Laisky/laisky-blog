{
 "metadata": {
  "name": "",
  "signature": "sha256:a5eb97af5746b73b60892919741ffa74839cbe66fb3f210489bffc897442556c"
 },
 "nbformat": 3,
 "nbformat_minor": 0,
 "worksheets": [
  {
   "cells": [
    {
     "cell_type": "code",
     "collapsed": false,
     "input": [
      "import datetime\n",
      "from bson import ObjectId\n",
      "\n",
      "import tornado\n",
      "\n",
      "import motorengine\n",
      "# from gargantua.models.users import Users\n",
      "from motorengine import Document, StringField, EmailField, BaseField, ReferenceField, DateTimeField\n",
      "\n",
      "\n",
      "io_loop = tornado.ioloop.IOLoop.instance()\n",
      "db = motorengine.connect(\"test\", host=\"blog.laisky.com\", port=27017, io_loop=io_loop)"
     ],
     "language": "python",
     "metadata": {},
     "outputs": [],
     "prompt_number": 16
    },
    {
     "cell_type": "code",
     "collapsed": false,
     "input": [
      "class Users(Document):\n",
      "    __collection__ = 'users'\n",
      "\n",
      "    password = StringField(required=True)\n",
      "    account = EmailField(required=True, unique=True)\n",
      "#     email = EmailField(required=True)\n",
      "#     username = StringField(unique=True, required=True)\n",
      "    level = StringField(required=True, default='reader')\n",
      "\n",
      "    @property\n",
      "    def email(self):\n",
      "        if 'email' not in self.__dict__:\n",
      "            _field = EmailField()\n",
      "            self._db_field_map['email'] = _field\n",
      "            self._fields['email'] = _field\n",
      "            self._values['email'] = self._fields.get('email').\\\n",
      "                get_value(self.account)\n",
      "        return getattr(self, 'email')\n",
      "\n",
      "    @property\n",
      "    def username(self):\n",
      "        if 'username' not in self.__dict__:\n",
      "            def get_default_username(email):\n",
      "                localpart = email.split('@', 1)[0]\n",
      "                return '{}({})'.format(localpart, email)\n",
      "            \n",
      "            _field = StringField()\n",
      "            self._db_field_map['username'] = _field\n",
      "            self._fields['username'] = _field\n",
      "            self._values['username'] = get_default_username(self._fields.get('username'))\n",
      "        return getattr(self, 'username')\n",
      "\n",
      "    def authenticate(self, passwd):\n",
      "        return validate_passwd(passwd, self.password)\n",
      "\n",
      "    def __repr__(self):\n",
      "        return str(self.account)\n",
      "    \n",
      "user = Users(account='abc@gmail.com', password='123')"
     ],
     "language": "python",
     "metadata": {},
     "outputs": [],
     "prompt_number": 21
    },
    {
     "cell_type": "code",
     "collapsed": false,
     "input": [
      "user.__dict__"
     ],
     "language": "python",
     "metadata": {},
     "outputs": [
      {
       "metadata": {},
       "output_type": "pyout",
       "prompt_number": 5,
       "text": [
        "{'_id': None,\n",
        " '_values': {'password': '123', 'account': 'abc@gmail.com', 'level': 'reader'}}"
       ]
      }
     ],
     "prompt_number": 5
    },
    {
     "cell_type": "code",
     "collapsed": false,
     "input": [
      "r = Users.objects.find_all()"
     ],
     "language": "python",
     "metadata": {},
     "outputs": [],
     "prompt_number": 22
    },
    {
     "cell_type": "code",
     "collapsed": false,
     "input": [
      "user = r.result()[0]"
     ],
     "language": "python",
     "metadata": {},
     "outputs": [],
     "prompt_number": 23
    },
    {
     "cell_type": "code",
     "collapsed": false,
     "input": [
      "print(user.__dict__)\n",
      "print(user.email)"
     ],
     "language": "python",
     "metadata": {},
     "outputs": [
      {
       "output_type": "stream",
       "stream": "stdout",
       "text": [
        "{'_values': {'account': 'abc@gmail.com', 'password': '123', 'level': 'reader'}, '_id': ObjectId('54c9eb365c5fca602b330a7d')}\n",
        "abc@gmail.com\n"
       ]
      }
     ],
     "prompt_number": 24
    },
    {
     "cell_type": "markdown",
     "metadata": {},
     "source": [
      "# Posts test"
     ]
    },
    {
     "cell_type": "code",
     "collapsed": false,
     "input": [
      "class UrlField(BaseField):\n",
      "    def get_value(self, value):\n",
      "        return urllib.parse.quote(value)\n",
      "\n",
      "\n",
      "class Posts(Document):\n",
      "    meta = {'collection': 'posts'}\n",
      "\n",
      "    comment_status = StringField(required=True, default='open')\n",
      "    post_author = EmailField(required=True)\n",
      "    post_content = StringField(required=True)\n",
      "    post_published_gmt = DateTimeField(required=True,\n",
      "                                       default=datetime.datetime.utcnow)\n",
      "    post_modified_gmt = DateTimeField(required=False)\n",
      "    post_name = UrlField(required=True, unique=True)\n",
      "    post_password = StringField()\n",
      "    post_status = StringField(required=True, default='publish')\n",
      "    post_title = StringField(required=True)\n",
      "\n",
      "    @property\n",
      "    def post_name(self):\n",
      "        if 'post_name' not in self.__dict__:\n",
      "            _field = UrlField()\n",
      "            self._db_field_map['post_name'] = _field\n",
      "            self._fields['post_name'] = _field\n",
      "            self._values['post_name'] = self._fields.get('post_name').\\\n",
      "                get_value(self.account)\n",
      "        return getattr(self, 'post_name')\n",
      "    \n",
      "    \n",
      "post = Posts(post_author='abc@gmail.com', post_content='content', post_title='title', )"
     ],
     "language": "python",
     "metadata": {},
     "outputs": [],
     "prompt_number": 19
    },
    {
     "cell_type": "code",
     "collapsed": false,
     "input": [
      "post.validate()\n",
      "post.__dict__"
     ],
     "language": "python",
     "metadata": {},
     "outputs": [
      {
       "metadata": {},
       "output_type": "pyout",
       "prompt_number": 20,
       "text": [
        "{'_values': {'post_password': None,\n",
        "  'post_author': 'abc@gmail.com',\n",
        "  'post_content': 'content',\n",
        "  'post_status': 'publish',\n",
        "  'post_published_gmt': datetime.datetime(2015, 1, 29, 8, 48, 41, 193373),\n",
        "  'post_modified_gmt': None,\n",
        "  'comment_status': 'open',\n",
        "  'post_title': 'title'},\n",
        " '_id': None}"
       ]
      }
     ],
     "prompt_number": 20
    }
   ],
   "metadata": {}
  }
 ]
}