{
 "cells": [
  {
   "cell_type": "code",
   "execution_count": 4,
   "metadata": {
    "collapsed": false
   },
   "outputs": [],
   "source": [
    "import pymongo\n",
    "import re\n",
    "from bson import ObjectId\n",
    "\n",
    "\n",
    "conn = pymongo.MongoClient('blog.laisky.com', port=27016)\n",
    "db = conn.blog"
   ]
  },
  {
   "cell_type": "code",
   "execution_count": 6,
   "metadata": {
    "collapsed": false
   },
   "outputs": [],
   "source": [
    "# regex = re.compile('(<pre><code class=\\\"\\w*\\\">.*?<\\/code><\\/pre>)')\n",
    "regex = re.compile('\\ highlight_lines=\\\"[0-9,]+\\\"')\n",
    "\n",
    "for docu in db.posts.find():\n",
    "    c = docu['post_content']\n",
    "    for p in regex.findall(c):\n",
    "        c = c.replace(p, '')\n",
    "        \n",
    "    c = c.replace('[pythoh]', '<pre><code class=\"python\">')\n",
    "    c = c.replace('[python]', '<pre><code class=\"python\">')\n",
    "    c = c.replace('[shell]', '<pre><code class=\"shell\">')\n",
    "    c = c.replace('[/shell]', '</code></pre>')\n",
    "    c = c.replace('[/python]', '</code></pre>')\n",
    "    c = c.replace('/laisky.com/blog//', '/laisky.com/')\n",
    "    c = c.replace('[bash]', '<pre><code class=\"shell\">')\n",
    "    c = c.replace('[/bash]', '</code></pre>')\n",
    "    c = c.replace('[php]', '<pre><code class=\"php\">')\n",
    "    c = c.replace('[/php]', '</code></pre>')\n",
    "    \n",
    "    db.posts.update({'_id': docu['_id']}, {'$set': {'post_content': c}})"
   ]
  },
  {
   "cell_type": "code",
   "execution_count": 7,
   "metadata": {
    "collapsed": false
   },
   "outputs": [],
   "source": [
    "with open('/Users/laisky/Desktop/ipython.html', 'w') as fp:\n",
    "    c = db.posts.find_one({'_id': ObjectId(\"5402f7710000000000000000\")})['post_content']\n",
    "    fp.write(c)"
   ]
  },
  {
   "cell_type": "code",
   "execution_count": 4,
   "metadata": {
    "collapsed": false
   },
   "outputs": [],
   "source": [
    "for docu in db.posts.find():\n",
    "    content = docu['post_content']\n",
    "    if 'blog.laisky.com/wp-content' not in content:\n",
    "        continue\n",
    "        \n",
    "    content = content.replace('blog.laisky.com/wp-content', 'blog.laisky.com')\n",
    "    db.posts.update({'_id': docu['_id']}, {'$set': {'post_content': content}})"
   ]
  },
  {
   "cell_type": "code",
   "execution_count": 3,
   "metadata": {
    "collapsed": false
   },
   "outputs": [],
   "source": [
    "docu = db.posts.find_one()"
   ]
  },
  {
   "cell_type": "code",
   "execution_count": 9,
   "metadata": {
    "collapsed": false
   },
   "outputs": [
    {
     "data": {
      "text/plain": [
       "datetime.datetime(2011, 4, 16, 8, 7, 19, tzinfo=<bson.tz_util.FixedOffset object at 0x1077a7390>)"
      ]
     },
     "execution_count": 9,
     "metadata": {},
     "output_type": "execute_result"
    }
   ],
   "source": [
    "_id = docu['_id']\n",
    "_id.generation_time"
   ]
  }
 ],
 "metadata": {
  "kernelspec": {
   "display_name": "Python 3",
   "language": "python",
   "name": "python3"
  },
  "language_info": {
   "codemirror_mode": {
    "name": "ipython",
    "version": 3
   },
   "file_extension": ".py",
   "mimetype": "text/x-python",
   "name": "python",
   "nbconvert_exporter": "python",
   "pygments_lexer": "ipython3",
   "version": "3.4.2"
  }
 },
 "nbformat": 4,
 "nbformat_minor": 0
}
