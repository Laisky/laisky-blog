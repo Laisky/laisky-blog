{
 "cells": [
  {
   "cell_type": "code",
   "execution_count": 5,
   "metadata": {
    "collapsed": false
   },
   "outputs": [],
   "source": [
    "import pymongo\n",
    "from bson import ObjectId\n",
    "\n",
    "\n",
    "conn = pymongo.MongoClient('blog.laisky.com', port=27016)\n",
    "db = conn.blog"
   ]
  },
  {
   "cell_type": "code",
   "execution_count": 10,
   "metadata": {
    "collapsed": false
   },
   "outputs": [
    {
     "name": "stdout",
     "output_type": "stream",
     "text": [
      "<p><a href=\"http://cinderellananako.files.wordpress.com/2011/04/s4568819.jpg\"><img class=\"alignleft size-medium wp-image-8\" title=\"s4568819\" src=\"http://cinderellananako.files.wordpress.com/2011/04/s4568819.jpg?w=212\" alt=\"\" width=\"212\" height=\"300\" /></a>中午趴在床上时急不可耐的看完了『好想告诉你』第二季<br /><br />交织着憧憬、谣言、胆怯与悸动的十六岁的初恋<br /><br />有人戏称这部为『好想急死你』，其实我觉得不然<br /><br />十六岁的时候，很多人就像那些默默的在暗处哭泣的人一样，青春岁月擦肩而过，待到成年才开始为自己的未曾付出而哀叹<br /><br />爽子她至少做到了，风早也表现出了间杂着青涩的成熟。<br /><br />没有什么比这更为真实的美妙了，毫不犹豫的给了满分<br /><br />不过一切都是在追忆逝去的岁月了，虽然美好，却也不能忘了银魂204里的月咏送出巧克力的那段…『你以为老娘会这么娇么！？』</p>\n"
     ]
    }
   ],
   "source": [
    "for docu in db.posts.find():\n",
    "    if 'img' in docu['post_content']:\n",
    "        print(docu['post_content'])\n",
    "        break"
   ]
  },
  {
   "cell_type": "code",
   "execution_count": 24,
   "metadata": {
    "collapsed": false,
    "scrolled": true
   },
   "outputs": [],
   "source": [
    "import re\n",
    "\n",
    "regex = re.compile('(<pre><code class=\\\"\\w*\\\">.*?<\\/code><\\/pre>)')"
   ]
  },
  {
   "cell_type": "code",
   "execution_count": 3,
   "metadata": {
    "collapsed": false
   },
   "outputs": [],
   "source": [
    "# regex = re.compile('(<pre><code class=\\\"\\w*\\\">.*?<\\/code><\\/pre>)')\n",
    "\n",
    "for docu in db.posts.find():\n",
    "    c = docu['post_content']\n",
    "    c = c.replace('[pythoh]', '<pre><code class=\"python\">')\n",
    "    c = c.replace('[python]', '<pre><code class=\"python\">')\n",
    "    c = c.replace('[shell]', '<pre><code class=\"shell\">')\n",
    "    c = c.replace('[/shell]', '</code></pre>')\n",
    "    c = c.replace('[/python]', '</code></pre>')\n",
    "#     for p in regex.findall(c):\n",
    "#         p.replace()\n",
    "    db.posts.update({'_id': docu['_id']}, {'$set': {'post_content': c}})"
   ]
  },
  {
   "cell_type": "code",
   "execution_count": 7,
   "metadata": {
    "collapsed": false
   },
   "outputs": [],
   "source": [
    "with open('/Users/laisky/Desktop/ipython.html', 'w') as fp:\n",
    "    c = db.posts.find_one({'_id': ObjectId(\"5402f7710000000000000000\")})['post_content']\n",
    "    fp.write(c)"
   ]
  },
  {
   "cell_type": "code",
   "execution_count": 4,
   "metadata": {
    "collapsed": false
   },
   "outputs": [],
   "source": [
    "for docu in db.posts.find():\n",
    "    content = docu['post_content']\n",
    "    if 'blog.laisky.com/wp-content' not in content:\n",
    "        continue\n",
    "        \n",
    "    content = content.replace('blog.laisky.com/wp-content', 'blog.laisky.com')\n",
    "    db.posts.update({'_id': docu['_id']}, {'$set': {'post_content': content}})"
   ]
  },
  {
   "cell_type": "code",
   "execution_count": 3,
   "metadata": {
    "collapsed": false
   },
   "outputs": [],
   "source": [
    "docu = db.posts.find_one()"
   ]
  },
  {
   "cell_type": "code",
   "execution_count": 9,
   "metadata": {
    "collapsed": false
   },
   "outputs": [
    {
     "data": {
      "text/plain": [
       "datetime.datetime(2011, 4, 16, 8, 7, 19, tzinfo=<bson.tz_util.FixedOffset object at 0x1077a7390>)"
      ]
     },
     "execution_count": 9,
     "metadata": {},
     "output_type": "execute_result"
    }
   ],
   "source": [
    "_id = docu['_id']\n",
    "_id.generation_time"
   ]
  }
 ],
 "metadata": {
  "kernelspec": {
   "display_name": "Python 3",
   "language": "python",
   "name": "python3"
  },
  "language_info": {
   "codemirror_mode": {
    "name": "ipython",
    "version": 3
   },
   "file_extension": ".py",
   "mimetype": "text/x-python",
   "name": "python",
   "nbconvert_exporter": "python",
   "pygments_lexer": "ipython3",
   "version": "3.4.2"
  }
 },
 "nbformat": 4,
 "nbformat_minor": 0
}
