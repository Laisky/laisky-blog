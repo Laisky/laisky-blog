{
 "cells": [
  {
   "cell_type": "code",
   "execution_count": 34,
   "metadata": {
    "collapsed": true
   },
   "outputs": [],
   "source": [
    "from pprint import pprint\n",
    "import json\n",
    "import requests\n",
    "\n",
    "url = \"http://laisky.com:17200\""
   ]
  },
  {
   "cell_type": "code",
   "execution_count": 31,
   "metadata": {
    "collapsed": false
   },
   "outputs": [
    {
     "data": {
      "text/plain": [
       "{'acknowledged': True}"
      ]
     },
     "execution_count": 31,
     "metadata": {},
     "output_type": "execute_result"
    }
   ],
   "source": [
    "# 清空 elasticsearch\n",
    "\n",
    "requests.delete('http://laisky.com:17200/*').json()"
   ]
  },
  {
   "cell_type": "code",
   "execution_count": 33,
   "metadata": {
    "collapsed": false
   },
   "outputs": [
    {
     "data": {
      "text/plain": [
       "{'_shards': {'failed': 0, 'successful': 0, 'total': 0}}"
      ]
     },
     "execution_count": 33,
     "metadata": {},
     "output_type": "execute_result"
    }
   ],
   "source": [
    "# 刷新\n",
    "\n",
    "requests.post('http://laisky.com:17200/_flush').json()"
   ]
  },
  {
   "cell_type": "code",
   "execution_count": 35,
   "metadata": {
    "collapsed": false
   },
   "outputs": [
    {
     "data": {
      "text/plain": [
       "{'_id': '_meta',\n",
       " '_index': '_river',\n",
       " '_type': 'blog',\n",
       " '_version': 1,\n",
       " 'created': True}"
      ]
     },
     "execution_count": 35,
     "metadata": {},
     "output_type": "execute_result"
    }
   ],
   "source": [
    "# 初始化 elasticsearch-river-mongodb\n",
    "\n",
    "q = {\n",
    "  \"type\": \"mongodb\",\n",
    "  \"mongodb\": {\n",
    "    \"servers\": [\n",
    "      { \"host\": \"127.0.0.1\", \"port\": 27016 }\n",
    "    ],\n",
    "    \"db\": \"blog\",\n",
    "    \"collection\": \"posts\",\n",
    "    \"options\": { \"secondary_read_preference\": True },\n",
    "    \"gridfs\": False\n",
    "  },\n",
    "  \"index\": {\n",
    "    \"name\": \"blog\",\n",
    "    \"type\": \"posts\"\n",
    "  }\n",
    "}\n",
    "\n",
    "requests.put(\"http://laisky.com:17200/_river/blog/_meta\", data=json.dumps(q)).json()"
   ]
  },
  {
   "cell_type": "code",
   "execution_count": 40,
   "metadata": {
    "collapsed": false,
    "scrolled": true
   },
   "outputs": [
    {
     "data": {
      "text/plain": [
       "['Github 简易入门',\n",
       " '使用 Git & Gitflow 管理代码开发、发布流程',\n",
       " 'twip4 搭建 Twitter API',\n",
       " '使用 pyenv 管理 Python 的版本']"
      ]
     },
     "execution_count": 40,
     "metadata": {},
     "output_type": "execute_result"
    }
   ],
   "source": [
    "# 测试\n",
    "\n",
    "query = {\n",
    "    \"query\": {\n",
    "        \"match\": {\n",
    "            \"post_content\": 'git'\n",
    "        }\n",
    "    }\n",
    "}\n",
    "es_q = json.dumps(query)\n",
    "\n",
    "r = requests.get(\"http://laisky.com:17200/blog/posts/_search\", data=es_q).json()\n",
    "\n",
    "r\n",
    "r = r['hits']['hits']\n",
    "[i['_source']['post_title'] for i in r]"
   ]
  },
  {
   "cell_type": "code",
   "execution_count": 4,
   "metadata": {
    "collapsed": false
   },
   "outputs": [
    {
     "data": {
      "text/plain": [
       "<function tornado.ioloop.IOLoop.run_sync>"
      ]
     },
     "execution_count": 4,
     "metadata": {},
     "output_type": "execute_result"
    }
   ],
   "source": [
    "import tornado\n",
    "from tornado import httpclient\n",
    "from tornado.ioloop import IOLoop\n",
    "\n",
    "\n",
    "IOLoop.run_sync"
   ]
  }
 ],
 "metadata": {
  "kernelspec": {
   "display_name": "Python 3",
   "language": "python",
   "name": "python3"
  },
  "language_info": {
   "codemirror_mode": {
    "name": "ipython",
    "version": 3
   },
   "file_extension": ".py",
   "mimetype": "text/x-python",
   "name": "python",
   "nbconvert_exporter": "python",
   "pygments_lexer": "ipython3",
   "version": "3.4.2"
  }
 },
 "nbformat": 4,
 "nbformat_minor": 0
}
